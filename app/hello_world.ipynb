{
 "cells": [
  {
   "cell_type": "code",
   "execution_count": null,
   "metadata": {},
   "outputs": [],
   "source": []
  }
 ],
 "metadata": {
  "kernelspec": {
   "display_name": "Python 3.8.13 ('mlops-course-fb')",
   "language": "python",
   "name": "python3"
  },
  "language_info": {
   "name": "python",
   "version": "3.8.13"
  },
  "orig_nbformat": 4,
  "vscode": {
   "interpreter": {
    "hash": "87825f27ff146bf2bc2f8f2fe3bc3ca7479a8adb8b01298b625eca6ba5f5ba4f"
   }
  }
 },
 "nbformat": 4,
 "nbformat_minor": 2
}
