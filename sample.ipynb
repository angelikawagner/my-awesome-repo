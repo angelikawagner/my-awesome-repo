{
 "cells": [
  {
   "cell_type": "markdown",
   "id": "215ee062",
   "metadata": {},
   "source": [
    "Hello!"
   ]
  },
  {
   "cell_type": "code",
   "execution_count": 1,
   "id": "6628a04b",
   "metadata": {},
   "outputs": [
    {
     "data": {
      "text/plain": [
       "2"
      ]
     },
     "execution_count": 1,
     "metadata": {},
     "output_type": "execute_result"
    }
   ],
   "source": [
    "1+1"
   ]
  },
  {
   "cell_type": "markdown",
   "id": "e7f83328",
   "metadata": {},
   "source": [
    "## Header 2"
   ]
  },
  {
   "cell_type": "code",
   "execution_count": 3,
   "id": "b2fa535a",
   "metadata": {},
   "outputs": [],
   "source": [
    "from numpy import *"
   ]
  },
  {
   "cell_type": "markdown",
   "id": "9be2927f",
   "metadata": {},
   "source": [
    "Here is how to calculate `sin`."
   ]
  },
  {
   "cell_type": "code",
   "execution_count": 7,
   "id": "5f1ec865",
   "metadata": {},
   "outputs": [
    {
     "data": {
      "text/plain": [
       "array([0.84147098, 1.        ])"
      ]
     },
     "execution_count": 7,
     "metadata": {},
     "output_type": "execute_result"
    }
   ],
   "source": [
    "a = array([1.0, pi/2])\n",
    "sin(a)"
   ]
  },
  {
   "cell_type": "code",
   "execution_count": null,
   "id": "cb79667d",
   "metadata": {},
   "outputs": [],
   "source": []
  }
 ],
 "metadata": {
  "kernelspec": {
   "display_name": "Python 3 (ipykernel)",
   "language": "python",
   "name": "python3"
  },
  "language_info": {
   "codemirror_mode": {
    "name": "ipython",
    "version": 3
   },
   "file_extension": ".py",
   "mimetype": "text/x-python",
   "name": "python",
   "nbconvert_exporter": "python",
   "pygments_lexer": "ipython3",
   "version": "3.9.13"
  }
 },
 "nbformat": 4,
 "nbformat_minor": 5
}
